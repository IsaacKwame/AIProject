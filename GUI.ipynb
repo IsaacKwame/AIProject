{
 "cells": [
  {
   "cell_type": "code",
   "execution_count": 6,
   "metadata": {},
   "outputs": [],
   "source": [
    "import tkinter\n",
    "\n",
    "\n",
    "\n",
    "window = tkinter.Tk()\n",
    "window.title(\"Prostate GUI\")\n",
    "label = tkinter.Label(window, text = \"Welcome to the Prostate Cancer Interface\").pack()\n",
    "btnUpload = tkinter.Button(window, text = \"Upload dataset\")\n",
    "btnPredict = tkinter.Button(window, text = \"Predict\")\n",
    "btnResults = tkinter.Button(window, text = \"Show results\")\n",
    "\n",
    "btnUpload.pack()\n",
    "btnPredict.pack()\n",
    "btnResults.pack()\n",
    "\n",
    "\n",
    "\n",
    "window.mainloop()"
   ]
  },
  {
   "cell_type": "code",
   "execution_count": null,
   "metadata": {},
   "outputs": [],
   "source": []
  },
  {
   "cell_type": "code",
   "execution_count": null,
   "metadata": {},
   "outputs": [],
   "source": []
  }
 ],
 "metadata": {
  "kernelspec": {
   "display_name": "Python 3",
   "language": "python",
   "name": "python3"
  },
  "language_info": {
   "codemirror_mode": {
    "name": "ipython",
    "version": 3
   },
   "file_extension": ".py",
   "mimetype": "text/x-python",
   "name": "python",
   "nbconvert_exporter": "python",
   "pygments_lexer": "ipython3",
   "version": "3.7.6"
  }
 },
 "nbformat": 4,
 "nbformat_minor": 4
}
